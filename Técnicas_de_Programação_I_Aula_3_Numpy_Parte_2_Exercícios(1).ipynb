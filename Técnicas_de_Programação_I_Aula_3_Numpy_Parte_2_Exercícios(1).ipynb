{
  "nbformat": 4,
  "nbformat_minor": 0,
  "metadata": {
    "colab": {
      "provenance": [],
      "collapsed_sections": []
    },
    "kernelspec": {
      "name": "python3",
      "display_name": "Python 3"
    },
    "language_info": {
      "name": "python"
    }
  },
  "cells": [
    {
      "cell_type": "markdown",
      "source": [
        "## 📍 Agenda 📍\n",
        "<br>\n",
        "\n",
        "- [Documentação oficial - Numpy](https://numpy.org/doc/stable/user/whatisnumpy.html)\n",
        "- [Exercícios](#dois)"
      ],
      "metadata": {
        "id": "QAnItBgO_LUz"
      }
    },
    {
      "cell_type": "markdown",
      "source": [
        "### Exercícios\n",
        "\n",
        "1. Importe numpy como 'np' e imprima o número da versão instalada no ambiente (local ou colab)."
      ],
      "metadata": {
        "id": "Q-3x_iuedX6B"
      }
    },
    {
      "cell_type": "code",
      "source": [],
      "metadata": {
        "id": "AGzhnaNQeCy_"
      },
      "execution_count": null,
      "outputs": []
    },
    {
      "cell_type": "markdown",
      "source": [
        "2. Crie um *array* 1D com números de 0 a 9 e imprima o resultado."
      ],
      "metadata": {
        "id": "ieE8odHDdtZI"
      }
    },
    {
      "cell_type": "code",
      "source": [
        "import numpy as np \n",
        "myArray = np.arange(10) \n",
        "print(myArray)"
      ],
      "metadata": {
        "id": "sXFdDWx1dqqU",
        "colab": {
          "base_uri": "https://localhost:8080/"
        },
        "outputId": "d128106d-e719-4eac-fb38-878a8874be68"
      },
      "execution_count": 22,
      "outputs": [
        {
          "output_type": "stream",
          "name": "stdout",
          "text": [
            "[0 1 2 3 4 5 6 7 8 9]\n"
          ]
        }
      ]
    },
    {
      "cell_type": "markdown",
      "source": [
        "3. Crie uma matriz **booleana** de 3x3 e preencha os seus valores com 'True'. Imprima o resultado.\n",
        "\n",
        "**Dica:** Verifique o uso da função **full** na documentação do [numpy](https://numpy.org/doc/stable/user/whatisnumpy.html)."
      ],
      "metadata": {
        "id": "_jOxZ-9MeDp8"
      }
    },
    {
      "cell_type": "code",
      "source": [
        "import numpy as np\n",
        "matriz = np.full((3, 3), True)\n",
        "matriz"
      ],
      "metadata": {
        "id": "a2hFo2USeUTc",
        "colab": {
          "base_uri": "https://localhost:8080/"
        },
        "outputId": "4f5214d5-628c-46cf-8981-3762dba74d6b"
      },
      "execution_count": 15,
      "outputs": [
        {
          "output_type": "execute_result",
          "data": {
            "text/plain": [
              "array([[ True,  True,  True],\n",
              "       [ True,  True,  True],\n",
              "       [ True,  True,  True]])"
            ]
          },
          "metadata": {},
          "execution_count": 15
        }
      ]
    },
    {
      "cell_type": "code",
      "source": [
        "# dtype tem que ser booleano\n",
        "e=np.zeros((3,3), dtype=bool)\n",
        "# 0 == False\n",
        "# 1 == True\n",
        "e[e==0] = True\n",
        "e"
      ],
      "metadata": {
        "colab": {
          "base_uri": "https://localhost:8080/"
        },
        "id": "JpSlAgRQiQxB",
        "outputId": "247895e3-ea89-40af-d29a-1fdff300a545"
      },
      "execution_count": 21,
      "outputs": [
        {
          "output_type": "execute_result",
          "data": {
            "text/plain": [
              "array([[ True,  True,  True],\n",
              "       [ True,  True,  True],\n",
              "       [ True,  True,  True]])"
            ]
          },
          "metadata": {},
          "execution_count": 21
        }
      ]
    },
    {
      "cell_type": "code",
      "source": [
        "e=np.zeros((3,3), dtype=bool)\n",
        "e[e==0] = np.True_\n",
        "e"
      ],
      "metadata": {
        "colab": {
          "base_uri": "https://localhost:8080/"
        },
        "id": "ck8X5MWajGdl",
        "outputId": "1f1245e3-7715-4b40-a0d1-80edc6bc3407"
      },
      "execution_count": 23,
      "outputs": [
        {
          "output_type": "execute_result",
          "data": {
            "text/plain": [
              "array([[ True,  True,  True],\n",
              "       [ True,  True,  True],\n",
              "       [ True,  True,  True]])"
            ]
          },
          "metadata": {},
          "execution_count": 23
        }
      ]
    },
    {
      "cell_type": "code",
      "source": [
        "np.full((2, 2), np.inf)"
      ],
      "metadata": {
        "id": "LuRxPGrhjfM8"
      },
      "execution_count": null,
      "outputs": []
    },
    {
      "cell_type": "code",
      "source": [
        "u = np.arange(9).reshape(3,3)\n",
        "troca = np.where(u/1 !=0,  True, True) \n",
        "print(troca)"
      ],
      "metadata": {
        "colab": {
          "base_uri": "https://localhost:8080/"
        },
        "id": "cvzBPi41isjM",
        "outputId": "d551eec8-49ec-485d-fcc4-71b70057e6c9"
      },
      "execution_count": 10,
      "outputs": [
        {
          "output_type": "stream",
          "name": "stdout",
          "text": [
            "[[ True  True  True]\n",
            " [ True  True  True]\n",
            " [ True  True  True]]\n"
          ]
        }
      ]
    },
    {
      "cell_type": "markdown",
      "source": [
        "4. Crie um *array* 1D como números inteiros (50 elementos) de 0 a 1000 aleatórios e **extraia** apenas os números pares. Imprima o resultado."
      ],
      "metadata": {
        "id": "Z_d4OZ3dewCV"
      }
    },
    {
      "cell_type": "code",
      "source": [
        "import numpy as np\n",
        "arr = np.random.randint(0, 1001, 50)\n",
        "pares = arr[arr % 2 == 0]\n",
        "pares"
      ],
      "metadata": {
        "id": "a0ADyjpafYtk",
        "colab": {
          "base_uri": "https://localhost:8080/"
        },
        "outputId": "4ed4f00c-7b37-4fed-d375-13cf3558588c"
      },
      "execution_count": 51,
      "outputs": [
        {
          "output_type": "execute_result",
          "data": {
            "text/plain": [
              "array([122, 362, 288, 862, 176, 270, 460,  30, 370, 726, 912, 688, 650,\n",
              "       424, 760, 616, 408, 596, 682, 736,   6, 704, 950, 308, 574, 660,\n",
              "       410, 910, 232, 938, 798, 782, 492])"
            ]
          },
          "metadata": {},
          "execution_count": 51
        }
      ]
    },
    {
      "cell_type": "markdown",
      "source": [
        "5. Usando o *array* criando no exercício 4, **substitua** todos os números ímpares maiores que 50 por -1 no *array* original. "
      ],
      "metadata": {
        "id": "oKusnV8FfTEN"
      }
    },
    {
      "cell_type": "code",
      "source": [
        "arr[(arr > 50) & (arr % 2 != 0)] = -1\n",
        "arr"
      ],
      "metadata": {
        "id": "5CznM9H6fSXA",
        "colab": {
          "base_uri": "https://localhost:8080/"
        },
        "outputId": "a0397dc1-150a-450f-c697-3f7dd1e271b1"
      },
      "execution_count": 52,
      "outputs": [
        {
          "output_type": "execute_result",
          "data": {
            "text/plain": [
              "array([ -1, 122,  -1, 362, 288,  -1,  -1, 862, 176,  -1, 270, 460,  -1,\n",
              "        30, 370, 726,  21, 912, 688, 650,  -1, 424, 760, 616, 408,  -1,\n",
              "       596, 682, 736,   6,  -1, 704, 950,  -1,  -1, 308, 574, 660, 410,\n",
              "       910,  -1, 232,  -1, 938, 798, 782,  -1,  -1, 492,   9])"
            ]
          },
          "metadata": {},
          "execution_count": 52
        }
      ]
    },
    {
      "cell_type": "markdown",
      "source": [
        "6. Usando o *array* criando no exercício anterior, **substitua** todos os números ímpares com o valor -1 **sem** alterar o *array* original."
      ],
      "metadata": {
        "id": "PkhrZ4mehSKc"
      }
    },
    {
      "cell_type": "code",
      "source": [
        "import numpy as np\n",
        "arr = np.random.randint(0, 1001, 50)\n",
        "arr2 = np.where(arr % 2 == 0, arr, -1)\n",
        "arr2"
      ],
      "metadata": {
        "id": "Uq4lr9G6hqa9",
        "colab": {
          "base_uri": "https://localhost:8080/"
        },
        "outputId": "5c86b236-c597-4e5f-dcca-073349d262dd"
      },
      "execution_count": 57,
      "outputs": [
        {
          "output_type": "execute_result",
          "data": {
            "text/plain": [
              "array([ -1,  -1,  -1, 524, 838, 626,  -1,  -1, 536, 766,  -1,  -1,  -1,\n",
              "       622, 136, 310,  -1, 554, 930, 550,  -1,  -1,  70,  -1, 122, 836,\n",
              "       700, 488,  -1,  -1,  -1, 684, 334, 634, 520,  -1, 692, 948,  -1,\n",
              "       682,  -1, 526,  -1, 384,  -1, 420, 640, 332, 196, 370])"
            ]
          },
          "metadata": {},
          "execution_count": 57
        }
      ]
    },
    {
      "cell_type": "code",
      "source": [
        "arr"
      ],
      "metadata": {
        "colab": {
          "base_uri": "https://localhost:8080/"
        },
        "id": "Hp58Aobype28",
        "outputId": "5b2f8ae9-3bca-4f9a-cdaf-b1917fc6b8fc"
      },
      "execution_count": 54,
      "outputs": [
        {
          "output_type": "execute_result",
          "data": {
            "text/plain": [
              "array([651, 974, 976, 431,  88, 304, 476,  55, 825, 549, 761, 978, 671,\n",
              "       634, 253, 320,   0, 385, 234, 876, 217,  31, 105, 596,  48, 585,\n",
              "       645, 847, 668, 878, 126, 861, 462, 369, 893, 440, 552, 662, 473,\n",
              "       989, 267, 207, 191, 872, 778,  70, 468, 245, 666, 322])"
            ]
          },
          "metadata": {},
          "execution_count": 54
        }
      ]
    },
    {
      "cell_type": "code",
      "source": [
        "# np.where(arr % 2 == 0, arr, -1)\n",
        "for i in range(arr.shape[0]):\n",
        "  if arr[i] % 2 == 0:\n",
        "    print(arr[i])\n",
        "  else:\n",
        "    print(-1)"
      ],
      "metadata": {
        "colab": {
          "base_uri": "https://localhost:8080/"
        },
        "id": "SaUYVAJ3oqTq",
        "outputId": "db81179a-d5a6-4887-fc5f-3f1293dfbd35"
      },
      "execution_count": 50,
      "outputs": [
        {
          "output_type": "stream",
          "name": "stdout",
          "text": [
            "-1\n",
            "-1\n",
            "-1\n",
            "62\n",
            "-1\n",
            "648\n",
            "954\n",
            "228\n",
            "4\n",
            "-1\n",
            "-1\n",
            "836\n",
            "428\n",
            "786\n",
            "-1\n",
            "-1\n",
            "830\n",
            "-1\n",
            "880\n",
            "-1\n",
            "-1\n",
            "-1\n",
            "764\n",
            "-1\n",
            "434\n",
            "700\n",
            "-1\n",
            "-1\n",
            "414\n",
            "806\n",
            "980\n",
            "454\n",
            "492\n",
            "-1\n",
            "-1\n",
            "-1\n",
            "364\n",
            "386\n",
            "516\n",
            "64\n",
            "-1\n",
            "746\n",
            "-1\n",
            "-1\n",
            "148\n",
            "-1\n",
            "-1\n",
            "784\n",
            "-1\n",
            "-1\n"
          ]
        }
      ]
    },
    {
      "cell_type": "code",
      "source": [
        "arr"
      ],
      "metadata": {
        "colab": {
          "base_uri": "https://localhost:8080/"
        },
        "id": "vm0wZgluoEBz",
        "outputId": "5859f6d0-1c03-4c31-e1d9-0d6c2e843916"
      },
      "execution_count": 46,
      "outputs": [
        {
          "output_type": "execute_result",
          "data": {
            "text/plain": [
              "array([858, 704, 443, 347, 550,  59, 446, 701, 319, 408, 904,  97, 511,\n",
              "       298,  40, 964, 777, 262, 793, 496, 723, 422, 623, 368, 958, 729,\n",
              "       266, 521, 749, 490,  31, 405, 115, 683, 261,   7, 328, 196, 714,\n",
              "       446, 711, 798, 322, 497, 490, 876, 180,   9,  93, 727])"
            ]
          },
          "metadata": {},
          "execution_count": 46
        }
      ]
    },
    {
      "cell_type": "code",
      "source": [
        "import numpy as np\n",
        "arr = np.random.randint(0, 1001, 50)\n",
        "arr2 = np.where(arr % 2 == 0, arr, -1)\n",
        "arr2"
      ],
      "metadata": {
        "colab": {
          "base_uri": "https://localhost:8080/"
        },
        "id": "AeOyJkahp6MM",
        "outputId": "69ede082-9f1f-413a-b178-9403c5c4e2f1"
      },
      "execution_count": 61,
      "outputs": [
        {
          "output_type": "execute_result",
          "data": {
            "text/plain": [
              "array([ 84, 984, 998,  82, 180,  -1,  -1,  -1, 492, 484,  86,  -1, 696,\n",
              "       960,  -1, 516,  -1,  -1,  -1, 404, 630,  -1, 898, 976,  -1, 338,\n",
              "       250, 984,  -1,  -1, 294, 664,  -1,  66,  -1, 718, 312,  -1,  38,\n",
              "       264,  -1,  -1, 802,  -1, 644, 638, 320, 910, 280, 978])"
            ]
          },
          "metadata": {},
          "execution_count": 61
        }
      ]
    },
    {
      "cell_type": "markdown",
      "source": [
        "7. Crie um *array* 1D com 100 valores de ponto flutuante (**float**), converta-o em uma matriz 2D com 10 linhas e 10 colunas."
      ],
      "metadata": {
        "id": "bpNSzpUjhq4k"
      }
    },
    {
      "cell_type": "code",
      "source": [],
      "metadata": {
        "id": "U8l5HMDuiHrv"
      },
      "execution_count": null,
      "outputs": []
    },
    {
      "cell_type": "markdown",
      "source": [
        "8. Crie duas matrizes 2D de inteiros aleatórios (de 0 a 100) com dimensões 10x10. **Empilhe-as horizontalmente**.\n",
        "\n",
        "**Dica:** verique as funções **hstack** e **concatenate** na documentação do [numpy](https://numpy.org/doc/stable/user/whatisnumpy.html)"
      ],
      "metadata": {
        "id": "jJ0uUGPNiIIP"
      }
    },
    {
      "cell_type": "code",
      "source": [],
      "metadata": {
        "id": "RPkc9e_ejdjf"
      },
      "execution_count": null,
      "outputs": []
    },
    {
      "cell_type": "markdown",
      "source": [
        "9. Crie duas matrizes 2D de inteiros aleatórios (de 0 a 100) com dimensões 10x10. **Empilhe-as verticalmente**.\n",
        "\n",
        "Dica: verique as funções **vstack** e **concatenate** na documentação do [numpy](https://numpy.org/doc/stable/user/whatisnumpy.html)\n"
      ],
      "metadata": {
        "id": "Vwp25JJ4jjmk"
      }
    },
    {
      "cell_type": "code",
      "source": [
        "import numpy as np\n",
        "matriz1 = np.random.randint(0, 101, (10, 10))\n",
        "matriz2 = np.random.randint(0, 101, (10, 10))"
      ],
      "metadata": {
        "id": "elI_DxeIo0s2"
      },
      "execution_count": 35,
      "outputs": []
    },
    {
      "cell_type": "code",
      "source": [
        "concat_matriz = np.hstack((matriz1, matriz2))"
      ],
      "metadata": {
        "id": "pKZgU_9klJH-"
      },
      "execution_count": 36,
      "outputs": []
    },
    {
      "cell_type": "code",
      "source": [
        "# similar ao hstack\n",
        "np.concatenate([matriz1, matriz2], axis=1).shape"
      ],
      "metadata": {
        "colab": {
          "base_uri": "https://localhost:8080/"
        },
        "id": "7vIwA82Cl_e8",
        "outputId": "eb7870bc-f5a0-418d-d4c7-7aad6ed01218"
      },
      "execution_count": 39,
      "outputs": [
        {
          "output_type": "execute_result",
          "data": {
            "text/plain": [
              "(10, 20)"
            ]
          },
          "metadata": {},
          "execution_count": 39
        }
      ]
    },
    {
      "cell_type": "code",
      "source": [
        "# similar ao vstack\n",
        "np.concatenate([matriz1, matriz2], axis=0).shape"
      ],
      "metadata": {
        "colab": {
          "base_uri": "https://localhost:8080/"
        },
        "id": "ZlRdJPczmREg",
        "outputId": "c6554e21-efa4-40a1-dedd-5b374e56a830"
      },
      "execution_count": 40,
      "outputs": [
        {
          "output_type": "execute_result",
          "data": {
            "text/plain": [
              "(20, 10)"
            ]
          },
          "metadata": {},
          "execution_count": 40
        }
      ]
    },
    {
      "cell_type": "code",
      "source": [
        "# https://stackoverflow.com/questions/33356442/when-should-i-use-hstack-vstack-vs-append-vs-concatenate-vs-column-stack"
      ],
      "metadata": {
        "id": "kfqjhGd0ma98"
      },
      "execution_count": null,
      "outputs": []
    },
    {
      "cell_type": "code",
      "source": [
        "concat_matriz.shape"
      ],
      "metadata": {
        "colab": {
          "base_uri": "https://localhost:8080/"
        },
        "id": "gcVk0jhNlTCB",
        "outputId": "86000cbc-44a5-4cb9-94af-9848a8cc02c0"
      },
      "execution_count": 29,
      "outputs": [
        {
          "output_type": "execute_result",
          "data": {
            "text/plain": [
              "(20, 10)"
            ]
          },
          "metadata": {},
          "execution_count": 29
        }
      ]
    },
    {
      "cell_type": "code",
      "source": [
        "concat_matriz = np.hstack((matriz1, matriz2))"
      ],
      "metadata": {
        "id": "5o7PSPPoldkd"
      },
      "execution_count": 37,
      "outputs": []
    },
    {
      "cell_type": "code",
      "source": [
        "concat_matriz.shape"
      ],
      "metadata": {
        "colab": {
          "base_uri": "https://localhost:8080/"
        },
        "id": "Ifu9BnVBlgEV",
        "outputId": "bbc00ba9-0f35-412e-aca7-894f5ac7a643"
      },
      "execution_count": 31,
      "outputs": [
        {
          "output_type": "execute_result",
          "data": {
            "text/plain": [
              "(10, 20)"
            ]
          },
          "metadata": {},
          "execution_count": 31
        }
      ]
    },
    {
      "cell_type": "markdown",
      "source": [
        "Para ler arquivos em formato *txt* que estão em formato de \"tabelas\", podemos usar a função **genfromtxt()** do **numpy**. Esta função recebe como argumentos: **caminho do arquivo txt** (path local ou uma url); **delimiter** para separar cada valor seguindo algum critério; **dtype** para converter os valores recebidos em algum tipo de dado conhecido (exemplo: **float**) e; **usecols** em que é definido o cabeçalho das colunas lidas a partir do arquivo. \n",
        "<br>\n",
        "<br>\n",
        "Vejamos um exemplo de uso da função **genfromtxt** sobre a base de dados \n",
        "<a href=\"https://archive.ics.uci.edu/ml/datasets/iris\">Iris</a>."
      ],
      "metadata": {
        "id": "qGOhnKPfl-vj"
      }
    },
    {
      "cell_type": "code",
      "source": [
        "import numpy as np\n",
        "# Caminho da base de dados é uma url disponível na internet (visite o link abaixo\n",
        "# pelo navegador para título de curiosidade :))\n",
        "url = 'https://archive.ics.uci.edu/ml/machine-learning-databases/iris/iris.data'\n",
        "# Lê os dados a partir do caminho passado e armazena em uma matriz 2D chamada iris_2d\n",
        "iris_2d = np.genfromtxt(url, delimiter=',', dtype='float', usecols=[0,1,2,3])"
      ],
      "metadata": {
        "id": "d04zAbrUjyOB"
      },
      "execution_count": null,
      "outputs": []
    },
    {
      "cell_type": "code",
      "source": [
        "# matriz 2D criada com os dados da base Iris\n",
        "iris_2d"
      ],
      "metadata": {
        "colab": {
          "base_uri": "https://localhost:8080/"
        },
        "id": "YJrKjLEllw3d",
        "outputId": "dc7f0492-3df8-4c26-81bd-3264f5bf8ad5"
      },
      "execution_count": null,
      "outputs": [
        {
          "output_type": "execute_result",
          "data": {
            "text/plain": [
              "array([[5.1, 3.5, 1.4, 0.2],\n",
              "       [4.9, 3. , 1.4, 0.2],\n",
              "       [4.7, 3.2, 1.3, 0.2],\n",
              "       [4.6, 3.1, 1.5, 0.2],\n",
              "       [5. , 3.6, 1.4, 0.2],\n",
              "       [5.4, 3.9, 1.7, 0.4],\n",
              "       [4.6, 3.4, 1.4, 0.3],\n",
              "       [5. , 3.4, 1.5, 0.2],\n",
              "       [4.4, 2.9, 1.4, 0.2],\n",
              "       [4.9, 3.1, 1.5, 0.1],\n",
              "       [5.4, 3.7, 1.5, 0.2],\n",
              "       [4.8, 3.4, 1.6, 0.2],\n",
              "       [4.8, 3. , 1.4, 0.1],\n",
              "       [4.3, 3. , 1.1, 0.1],\n",
              "       [5.8, 4. , 1.2, 0.2],\n",
              "       [5.7, 4.4, 1.5, 0.4],\n",
              "       [5.4, 3.9, 1.3, 0.4],\n",
              "       [5.1, 3.5, 1.4, 0.3],\n",
              "       [5.7, 3.8, 1.7, 0.3],\n",
              "       [5.1, 3.8, 1.5, 0.3],\n",
              "       [5.4, 3.4, 1.7, 0.2],\n",
              "       [5.1, 3.7, 1.5, 0.4],\n",
              "       [4.6, 3.6, 1. , 0.2],\n",
              "       [5.1, 3.3, 1.7, 0.5],\n",
              "       [4.8, 3.4, 1.9, 0.2],\n",
              "       [5. , 3. , 1.6, 0.2],\n",
              "       [5. , 3.4, 1.6, 0.4],\n",
              "       [5.2, 3.5, 1.5, 0.2],\n",
              "       [5.2, 3.4, 1.4, 0.2],\n",
              "       [4.7, 3.2, 1.6, 0.2],\n",
              "       [4.8, 3.1, 1.6, 0.2],\n",
              "       [5.4, 3.4, 1.5, 0.4],\n",
              "       [5.2, 4.1, 1.5, 0.1],\n",
              "       [5.5, 4.2, 1.4, 0.2],\n",
              "       [4.9, 3.1, 1.5, 0.1],\n",
              "       [5. , 3.2, 1.2, 0.2],\n",
              "       [5.5, 3.5, 1.3, 0.2],\n",
              "       [4.9, 3.1, 1.5, 0.1],\n",
              "       [4.4, 3. , 1.3, 0.2],\n",
              "       [5.1, 3.4, 1.5, 0.2],\n",
              "       [5. , 3.5, 1.3, 0.3],\n",
              "       [4.5, 2.3, 1.3, 0.3],\n",
              "       [4.4, 3.2, 1.3, 0.2],\n",
              "       [5. , 3.5, 1.6, 0.6],\n",
              "       [5.1, 3.8, 1.9, 0.4],\n",
              "       [4.8, 3. , 1.4, 0.3],\n",
              "       [5.1, 3.8, 1.6, 0.2],\n",
              "       [4.6, 3.2, 1.4, 0.2],\n",
              "       [5.3, 3.7, 1.5, 0.2],\n",
              "       [5. , 3.3, 1.4, 0.2],\n",
              "       [7. , 3.2, 4.7, 1.4],\n",
              "       [6.4, 3.2, 4.5, 1.5],\n",
              "       [6.9, 3.1, 4.9, 1.5],\n",
              "       [5.5, 2.3, 4. , 1.3],\n",
              "       [6.5, 2.8, 4.6, 1.5],\n",
              "       [5.7, 2.8, 4.5, 1.3],\n",
              "       [6.3, 3.3, 4.7, 1.6],\n",
              "       [4.9, 2.4, 3.3, 1. ],\n",
              "       [6.6, 2.9, 4.6, 1.3],\n",
              "       [5.2, 2.7, 3.9, 1.4],\n",
              "       [5. , 2. , 3.5, 1. ],\n",
              "       [5.9, 3. , 4.2, 1.5],\n",
              "       [6. , 2.2, 4. , 1. ],\n",
              "       [6.1, 2.9, 4.7, 1.4],\n",
              "       [5.6, 2.9, 3.6, 1.3],\n",
              "       [6.7, 3.1, 4.4, 1.4],\n",
              "       [5.6, 3. , 4.5, 1.5],\n",
              "       [5.8, 2.7, 4.1, 1. ],\n",
              "       [6.2, 2.2, 4.5, 1.5],\n",
              "       [5.6, 2.5, 3.9, 1.1],\n",
              "       [5.9, 3.2, 4.8, 1.8],\n",
              "       [6.1, 2.8, 4. , 1.3],\n",
              "       [6.3, 2.5, 4.9, 1.5],\n",
              "       [6.1, 2.8, 4.7, 1.2],\n",
              "       [6.4, 2.9, 4.3, 1.3],\n",
              "       [6.6, 3. , 4.4, 1.4],\n",
              "       [6.8, 2.8, 4.8, 1.4],\n",
              "       [6.7, 3. , 5. , 1.7],\n",
              "       [6. , 2.9, 4.5, 1.5],\n",
              "       [5.7, 2.6, 3.5, 1. ],\n",
              "       [5.5, 2.4, 3.8, 1.1],\n",
              "       [5.5, 2.4, 3.7, 1. ],\n",
              "       [5.8, 2.7, 3.9, 1.2],\n",
              "       [6. , 2.7, 5.1, 1.6],\n",
              "       [5.4, 3. , 4.5, 1.5],\n",
              "       [6. , 3.4, 4.5, 1.6],\n",
              "       [6.7, 3.1, 4.7, 1.5],\n",
              "       [6.3, 2.3, 4.4, 1.3],\n",
              "       [5.6, 3. , 4.1, 1.3],\n",
              "       [5.5, 2.5, 4. , 1.3],\n",
              "       [5.5, 2.6, 4.4, 1.2],\n",
              "       [6.1, 3. , 4.6, 1.4],\n",
              "       [5.8, 2.6, 4. , 1.2],\n",
              "       [5. , 2.3, 3.3, 1. ],\n",
              "       [5.6, 2.7, 4.2, 1.3],\n",
              "       [5.7, 3. , 4.2, 1.2],\n",
              "       [5.7, 2.9, 4.2, 1.3],\n",
              "       [6.2, 2.9, 4.3, 1.3],\n",
              "       [5.1, 2.5, 3. , 1.1],\n",
              "       [5.7, 2.8, 4.1, 1.3],\n",
              "       [6.3, 3.3, 6. , 2.5],\n",
              "       [5.8, 2.7, 5.1, 1.9],\n",
              "       [7.1, 3. , 5.9, 2.1],\n",
              "       [6.3, 2.9, 5.6, 1.8],\n",
              "       [6.5, 3. , 5.8, 2.2],\n",
              "       [7.6, 3. , 6.6, 2.1],\n",
              "       [4.9, 2.5, 4.5, 1.7],\n",
              "       [7.3, 2.9, 6.3, 1.8],\n",
              "       [6.7, 2.5, 5.8, 1.8],\n",
              "       [7.2, 3.6, 6.1, 2.5],\n",
              "       [6.5, 3.2, 5.1, 2. ],\n",
              "       [6.4, 2.7, 5.3, 1.9],\n",
              "       [6.8, 3. , 5.5, 2.1],\n",
              "       [5.7, 2.5, 5. , 2. ],\n",
              "       [5.8, 2.8, 5.1, 2.4],\n",
              "       [6.4, 3.2, 5.3, 2.3],\n",
              "       [6.5, 3. , 5.5, 1.8],\n",
              "       [7.7, 3.8, 6.7, 2.2],\n",
              "       [7.7, 2.6, 6.9, 2.3],\n",
              "       [6. , 2.2, 5. , 1.5],\n",
              "       [6.9, 3.2, 5.7, 2.3],\n",
              "       [5.6, 2.8, 4.9, 2. ],\n",
              "       [7.7, 2.8, 6.7, 2. ],\n",
              "       [6.3, 2.7, 4.9, 1.8],\n",
              "       [6.7, 3.3, 5.7, 2.1],\n",
              "       [7.2, 3.2, 6. , 1.8],\n",
              "       [6.2, 2.8, 4.8, 1.8],\n",
              "       [6.1, 3. , 4.9, 1.8],\n",
              "       [6.4, 2.8, 5.6, 2.1],\n",
              "       [7.2, 3. , 5.8, 1.6],\n",
              "       [7.4, 2.8, 6.1, 1.9],\n",
              "       [7.9, 3.8, 6.4, 2. ],\n",
              "       [6.4, 2.8, 5.6, 2.2],\n",
              "       [6.3, 2.8, 5.1, 1.5],\n",
              "       [6.1, 2.6, 5.6, 1.4],\n",
              "       [7.7, 3. , 6.1, 2.3],\n",
              "       [6.3, 3.4, 5.6, 2.4],\n",
              "       [6.4, 3.1, 5.5, 1.8],\n",
              "       [6. , 3. , 4.8, 1.8],\n",
              "       [6.9, 3.1, 5.4, 2.1],\n",
              "       [6.7, 3.1, 5.6, 2.4],\n",
              "       [6.9, 3.1, 5.1, 2.3],\n",
              "       [5.8, 2.7, 5.1, 1.9],\n",
              "       [6.8, 3.2, 5.9, 2.3],\n",
              "       [6.7, 3.3, 5.7, 2.5],\n",
              "       [6.7, 3. , 5.2, 2.3],\n",
              "       [6.3, 2.5, 5. , 1.9],\n",
              "       [6.5, 3. , 5.2, 2. ],\n",
              "       [6.2, 3.4, 5.4, 2.3],\n",
              "       [5.9, 3. , 5.1, 1.8]])"
            ]
          },
          "metadata": {},
          "execution_count": 6
        }
      ]
    },
    {
      "cell_type": "markdown",
      "source": [
        "11. A partir dos dados lidos na matriz iris_2d, filtre as linhas que possuem (coluna 3) > 1.5 e (coluna 1) < 5.0."
      ],
      "metadata": {
        "id": "y6BEJmbfoG9e"
      }
    },
    {
      "cell_type": "code",
      "source": [],
      "metadata": {
        "id": "ZDVN0zTqqQWt"
      },
      "execution_count": null,
      "outputs": []
    },
    {
      "cell_type": "markdown",
      "source": [
        "12. A partir dos dados lidos na matriz iris_2d, calcule a **média** e **desvio padrão** de cada coluna presente nos dados. Imprima o resultado."
      ],
      "metadata": {
        "id": "9ikWBX-lqQz0"
      }
    },
    {
      "cell_type": "code",
      "source": [],
      "metadata": {
        "id": "s55h9fiDqlXi"
      },
      "execution_count": null,
      "outputs": []
    },
    {
      "cell_type": "markdown",
      "source": [
        "13. Crie um repositório no Github e versione todos os códigos que desenvolveram nesta lista de exercícios."
      ],
      "metadata": {
        "id": "c1qbnjgpqvVP"
      }
    },
    {
      "cell_type": "code",
      "source": [],
      "metadata": {
        "id": "R1KdStxcF05q"
      },
      "execution_count": null,
      "outputs": []
    }
  ]
}